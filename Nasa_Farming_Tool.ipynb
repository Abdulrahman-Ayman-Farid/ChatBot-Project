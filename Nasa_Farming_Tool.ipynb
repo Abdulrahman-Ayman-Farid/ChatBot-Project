{
  "cells": [
    {
      "cell_type": "markdown",
      "metadata": {
        "id": "view-in-github",
        "colab_type": "text"
      },
      "source": [
        "<a href=\"https://colab.research.google.com/github/Abdulrahman-Ayman-Farid/ChatBot-Project/blob/main/Nasa_Farming_Tool.ipynb\" target=\"_parent\"><img src=\"https://colab.research.google.com/assets/colab-badge.svg\" alt=\"Open In Colab\"/></a>"
      ]
    },
    {
      "cell_type": "code",
      "execution_count": null,
      "metadata": {
        "colab": {
          "background_save": true
        },
        "id": "G1uH7rzCLK1O"
      },
      "outputs": [],
      "source": [
        "!pip install rarfile\n",
        "import zipfile\n",
        "import os\n",
        "import rarfile\n",
        "\n",
        "# Define the path to the uploaded zip file (replace 'new_zip_file.zip' with your actual file name)\n",
        "zip_path = '/content/Nasa Frames.rar'\n",
        "\n",
        "# Extract the RAR file\n",
        "with rarfile.RarFile(zip_path, 'r') as rar_ref:\n",
        "    rar_ref.extractall('/content/frames1')  # Extracts to a folder named 'frames'\n",
        "\n",
        "# Check if extraction was successful\n",
        "print(f\"Extracted files: {os.listdir('/content/frames1')}\")"
      ]
    },
    {
      "cell_type": "code",
      "execution_count": null,
      "metadata": {
        "id": "06caVR8GJj5J"
      },
      "outputs": [],
      "source": [
        "from google.colab import drive\n",
        "drive.mount('/content/drive')"
      ]
    },
    {
      "cell_type": "code",
      "execution_count": null,
      "metadata": {
        "id": "Ng_nP7P28X-l"
      },
      "outputs": [],
      "source": [
        "import cv2\n",
        "import OpenEXR\n",
        "import numpy as np\n",
        "import os\n",
        "\n",
        "# Enable OpenEXR support in OpenCV\n",
        "os.environ[\"OPENCV_IO_ENABLE_OPENEXR\"] = \"1\"\n",
        "\n",
        "def load_exr_frame(filepath):\n",
        "    # Read the .exr file using OpenCV\n",
        "    try:\n",
        "        exr_image = cv2.imread(filepath, cv2.IMREAD_ANYCOLOR | cv2.IMREAD_ANYDEPTH)\n",
        "    except Exception as e:\n",
        "        print(f\"Error loading image: {e}\")\n",
        "        return None\n",
        "\n",
        "    # Check if the image was loaded properly\n",
        "    if exr_image is None:\n",
        "        print(f\"Could not load image {filepath}\") # Changed from raise ValueError to print\n",
        "        return None # Return None instead of raising an error\n",
        "\n",
        "    # Normalize the data if necessary\n",
        "    exr_image = cv2.normalize(exr_image, None, 0, 1, cv2.NORM_MINMAX)\n",
        "\n",
        "    return exr_image\n",
        "\n",
        "# List all .exr files in the extracted folder\n",
        "frames_folder = '/content/frames1'  # Adjust the path as needed\n",
        "exr_files = [os.path.join(frames_folder, f) for f in os.listdir(frames_folder) if f.endswith('.exr')]\n",
        "\n",
        "# Load all frames into a list\n",
        "frames_list = []\n",
        "for filepath in exr_files:\n",
        "    frame = load_exr_frame(filepath)\n",
        "    if frame is not None: # Only add the frame if it was loaded successfully\n",
        "        frames_list.append(frame)\n",
        "\n",
        "# Convert the list to a NumPy array for model training\n",
        "frames_array = np.array(frames_list)\n",
        "\n",
        "# Check the shape of the loaded frames array\n",
        "print(f\"Frames shape: {frames_array.shape}\")"
      ]
    },
    {
      "cell_type": "code",
      "execution_count": null,
      "metadata": {
        "colab": {
          "base_uri": "https://localhost:8080/"
        },
        "id": "OtglngEDLK0Q",
        "outputId": "49b193a7-8ea9-40ff-f539-8606acd44c74"
      },
      "outputs": [
        {
          "name": "stdout",
          "output_type": "stream",
          "text": [
            "/content/frames1/GMAO_extremes_map_2023-03-01_2057.00004.exr: HTML document, ASCII text\n"
          ]
        }
      ],
      "source": [
        "!file /content/GMAO_extremes_map_2023-03-01_2057.00001.exr\n"
      ]
    },
    {
      "cell_type": "code",
      "execution_count": null,
      "metadata": {
        "colab": {
          "base_uri": "https://localhost:8080/"
        },
        "id": "rh5vuZZmHnOL",
        "outputId": "af2b48ab-8d7f-491c-e764-493e4fb9c13a"
      },
      "outputs": [
        {
          "name": "stdout",
          "output_type": "stream",
          "text": [
            "Error loading image /content/frames1/GMAO_extremes_map_2023-03-01_2057.00001.exr: Cannot read image file \"/content/frames1/GMAO_extremes_map_2023-03-01_2057.00001.exr\". File is not an image file.\n"
          ]
        }
      ],
      "source": [
        "import OpenEXR\n",
        "import numpy as np\n",
        "import Imath\n",
        "\n",
        "def load_exr_frame(filepath):\n",
        "    try:\n",
        "        exr_file = OpenEXR.InputFile(filepath)\n",
        "        header = exr_file.header()\n",
        "        channels = header['channels'].keys()\n",
        "\n",
        "        # Read the R, G, B channels\n",
        "        rgb = [exr_file.channel(c, Imath.PixelType(Imath.PixelType.FLOAT)) for c in channels]\n",
        "\n",
        "        # Get dataWindow dimensions\n",
        "        dw = header['dataWindow']\n",
        "        width = dw.max.x - dw.min.x + 1\n",
        "        height = dw.max.y - dw.min.y + 1\n",
        "        shape = (height, width)\n",
        "\n",
        "        # Reshape the channel data to the image dimensions\n",
        "        rgb = [np.frombuffer(c, dtype=np.float32).reshape(shape) for c in rgb]\n",
        "        exr_image = np.stack(rgb, axis=-1)\n",
        "\n",
        "        # Normalize the image (if needed)\n",
        "        exr_image = (exr_image - np.min(exr_image)) / (np.max(exr_image) - np.min(exr_image))\n",
        "\n",
        "        return exr_image\n",
        "\n",
        "    except Exception as e:\n",
        "        print(f\"Error loading image {filepath}: {e}\")\n",
        "        return None\n",
        "\n",
        "# Test the function\n",
        "frame = load_exr_frame('/content/frames1/GMAO_extremes_map_2023-03-01_2057.00001.exr')\n",
        "if frame is not None:\n",
        "    print(f\"Frame loaded successfully with shape {frame.shape}\")\n"
      ]
    }
  ],
  "metadata": {
    "accelerator": "GPU",
    "colab": {
      "gpuType": "T4",
      "provenance": [],
      "include_colab_link": true
    },
    "kernelspec": {
      "display_name": "Python 3",
      "name": "python3"
    },
    "language_info": {
      "name": "python"
    }
  },
  "nbformat": 4,
  "nbformat_minor": 0
}